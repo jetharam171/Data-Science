{
 "cells": [
  {
   "cell_type": "code",
   "execution_count": 1,
   "id": "b62823a3",
   "metadata": {},
   "outputs": [
    {
     "name": "stdout",
     "output_type": "stream",
     "text": [
      "Hii\n"
     ]
    }
   ],
   "source": [
    "print(\"Hii\")"
   ]
  },
  {
   "cell_type": "code",
   "execution_count": 2,
   "id": "fc5f0ba0",
   "metadata": {},
   "outputs": [
    {
     "name": "stdout",
     "output_type": "stream",
     "text": [
      "14\n"
     ]
    }
   ],
   "source": [
    "print(14)"
   ]
  },
  {
   "cell_type": "code",
   "execution_count": 3,
   "id": "7acdcae0",
   "metadata": {},
   "outputs": [
    {
     "name": "stdout",
     "output_type": "stream",
     "text": [
      "55\n"
     ]
    }
   ],
   "source": [
    "print(55)#not string"
   ]
  },
  {
   "cell_type": "code",
   "execution_count": 4,
   "id": "92188481",
   "metadata": {},
   "outputs": [
    {
     "name": "stdout",
     "output_type": "stream",
     "text": [
      "hii\n"
     ]
    }
   ],
   "source": [
    "print('hii')"
   ]
  },
  {
   "cell_type": "markdown",
   "id": "3ffbd525",
   "metadata": {},
   "source": [
    "###printing Hello world"
   ]
  },
  {
   "cell_type": "markdown",
   "id": "bdb83f1a",
   "metadata": {},
   "source": [
    "#### Printing Hello World"
   ]
  },
  {
   "cell_type": "code",
   "execution_count": 5,
   "id": "76277cf4",
   "metadata": {},
   "outputs": [],
   "source": [
    "#####printing hello world   #no spca # and next word "
   ]
  },
  {
   "cell_type": "markdown",
   "id": "fa81e7a4",
   "metadata": {},
   "source": [
    "##### Printing Hello World\n"
   ]
  },
  {
   "cell_type": "markdown",
   "id": "e37cc9f6",
   "metadata": {},
   "source": [
    "## Printing Hello World"
   ]
  },
  {
   "cell_type": "markdown",
   "id": "74933e99",
   "metadata": {},
   "source": [
    "# Printing Hello WOrld"
   ]
  },
  {
   "cell_type": "markdown",
   "id": "b7ac8d07",
   "metadata": {},
   "source": [
    "# Printing Hello WOrld"
   ]
  },
  {
   "cell_type": "markdown",
   "id": "b81bd937",
   "metadata": {},
   "source": [
    "## Printing Hello World"
   ]
  },
  {
   "cell_type": "markdown",
   "id": "a59bf38c",
   "metadata": {},
   "source": [
    "##### Printing Hello World"
   ]
  },
  {
   "cell_type": "code",
   "execution_count": 6,
   "id": "346371bd",
   "metadata": {},
   "outputs": [
    {
     "name": "stdout",
     "output_type": "stream",
     "text": [
      "Jetha\n"
     ]
    }
   ],
   "source": [
    "print(\"Jetha\")"
   ]
  },
  {
   "cell_type": "code",
   "execution_count": 7,
   "id": "233e8fe3",
   "metadata": {},
   "outputs": [
    {
     "name": "stdout",
     "output_type": "stream",
     "text": [
      "hii\n"
     ]
    }
   ],
   "source": [
    "print(\"hii\")"
   ]
  },
  {
   "cell_type": "markdown",
   "id": "4c01791a",
   "metadata": {},
   "source": [
    "#hii"
   ]
  },
  {
   "cell_type": "code",
   "execution_count": 8,
   "id": "18b9d672",
   "metadata": {
    "scrolled": false
   },
   "outputs": [
    {
     "ename": "NameError",
     "evalue": "name 'Print' is not defined",
     "output_type": "error",
     "traceback": [
      "\u001b[1;31m---------------------------------------------------------------------------\u001b[0m",
      "\u001b[1;31mNameError\u001b[0m                                 Traceback (most recent call last)",
      "Input \u001b[1;32mIn [8]\u001b[0m, in \u001b[0;36m<cell line: 1>\u001b[1;34m()\u001b[0m\n\u001b[1;32m----> 1\u001b[0m \u001b[43mPrint\u001b[49m(\u001b[38;5;124m\"\u001b[39m\u001b[38;5;124mhii\u001b[39m\u001b[38;5;124m\"\u001b[39m)\n",
      "\u001b[1;31mNameError\u001b[0m: name 'Print' is not defined"
     ]
    }
   ],
   "source": [
    "Print(\"hii\")      #case sensitive"
   ]
  },
  {
   "cell_type": "code",
   "execution_count": 9,
   "id": "a74a6ad7",
   "metadata": {},
   "outputs": [
    {
     "name": "stdout",
     "output_type": "stream",
     "text": [
      "1\n"
     ]
    }
   ],
   "source": [
    "print(1)"
   ]
  },
  {
   "cell_type": "code",
   "execution_count": 10,
   "id": "c685588f",
   "metadata": {},
   "outputs": [
    {
     "name": "stdout",
     "output_type": "stream",
     "text": [
      "hii\n"
     ]
    }
   ],
   "source": [
    "print(\"hii\")"
   ]
  }
 ],
 "metadata": {
  "kernelspec": {
   "display_name": "Python 3 (ipykernel)",
   "language": "python",
   "name": "python3"
  },
  "language_info": {
   "codemirror_mode": {
    "name": "ipython",
    "version": 3
   },
   "file_extension": ".py",
   "mimetype": "text/x-python",
   "name": "python",
   "nbconvert_exporter": "python",
   "pygments_lexer": "ipython3",
   "version": "3.9.12"
  }
 },
 "nbformat": 4,
 "nbformat_minor": 5
}
