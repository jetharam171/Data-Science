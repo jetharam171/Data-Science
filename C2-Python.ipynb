{
 "cells": [
  {
   "cell_type": "markdown",
   "id": "1b49f251",
   "metadata": {},
   "source": [
    "### Data Type"
   ]
  },
  {
   "cell_type": "code",
   "execution_count": null,
   "id": "0cc8f21d",
   "metadata": {
    "scrolled": true
   },
   "outputs": [],
   "source": [
    "x=10\n",
    "type(x)"
   ]
  },
  {
   "cell_type": "code",
   "execution_count": null,
   "id": "dc3c4f49",
   "metadata": {},
   "outputs": [],
   "source": [
    "x=10.5\n",
    "type(x)"
   ]
  },
  {
   "cell_type": "code",
   "execution_count": null,
   "id": "cf6f0722",
   "metadata": {},
   "outputs": [],
   "source": [
    "y=\"Jetha\"\n",
    "type(y)"
   ]
  },
  {
   "cell_type": "code",
   "execution_count": null,
   "id": "752914df",
   "metadata": {},
   "outputs": [],
   "source": [
    "z=True\n",
    "type(z)"
   ]
  },
  {
   "cell_type": "code",
   "execution_count": null,
   "id": "fb5c20ba",
   "metadata": {},
   "outputs": [],
   "source": [
    "z=\"True\"\n",
    "type(z)"
   ]
  },
  {
   "cell_type": "markdown",
   "id": "3235edea",
   "metadata": {},
   "source": [
    "### Variables"
   ]
  },
  {
   "cell_type": "code",
   "execution_count": null,
   "id": "346eedca",
   "metadata": {},
   "outputs": [],
   "source": [
    "names=['JR',\"JP\",\"TR\",\"MA\"]\n",
    "names"
   ]
  },
  {
   "cell_type": "code",
   "execution_count": null,
   "id": "029cd426",
   "metadata": {
    "scrolled": false
   },
   "outputs": [],
   "source": [
    "type(names)"
   ]
  },
  {
   "cell_type": "code",
   "execution_count": null,
   "id": "7845473f",
   "metadata": {},
   "outputs": [],
   "source": [
    "names3=[\"Jetha\"]        #3name,name@s, invalid \n",
    "names3"
   ]
  },
  {
   "cell_type": "code",
   "execution_count": null,
   "id": "9a679cb1",
   "metadata": {},
   "outputs": [],
   "source": [
    "name_s=[\"jetha\"]\n",
    "name_s"
   ]
  },
  {
   "cell_type": "code",
   "execution_count": null,
   "id": "00268160",
   "metadata": {},
   "outputs": [],
   "source": [
    "name_s=[\"Jetha\",\"MA\"]\n",
    "name_s"
   ]
  },
  {
   "cell_type": "code",
   "execution_count": null,
   "id": "ad5fcb3f",
   "metadata": {},
   "outputs": [],
   "source": [
    "_name=[\"Jetha\"]\n",
    "_name"
   ]
  },
  {
   "cell_type": "raw",
   "id": "c0fa5d82",
   "metadata": {},
   "source": [
    " Variable can start with a-z A-Z _ but not with int\n",
    " case sensitative \n",
    " no space allowed in bertween"
   ]
  },
  {
   "cell_type": "code",
   "execution_count": null,
   "id": "4d81a3e6",
   "metadata": {},
   "outputs": [],
   "source": [
    "m=\"hii\"\n",
    "type(m)"
   ]
  },
  {
   "cell_type": "raw",
   "id": "74662a6f",
   "metadata": {},
   "source": [
    " List- []\n",
    "1.Allows Heterogenous-int str float complex bool\n",
    "2. Index with 0\n",
    "3. Mutable using index\n",
    "4.ordered"
   ]
  },
  {
   "cell_type": "code",
   "execution_count": null,
   "id": "ec837226",
   "metadata": {},
   "outputs": [],
   "source": [
    "sample_list=[10,\"hii\",4.5,1+3j,True]\n",
    "sample_list"
   ]
  },
  {
   "cell_type": "code",
   "execution_count": null,
   "id": "e3542e22",
   "metadata": {},
   "outputs": [],
   "source": [
    "type(sample_list)"
   ]
  },
  {
   "cell_type": "code",
   "execution_count": null,
   "id": "a363fbf5",
   "metadata": {},
   "outputs": [],
   "source": [
    "sample_list[1]"
   ]
  },
  {
   "cell_type": "code",
   "execution_count": null,
   "id": "2f32f1f0",
   "metadata": {},
   "outputs": [],
   "source": [
    "sample_list[4]"
   ]
  },
  {
   "cell_type": "code",
   "execution_count": null,
   "id": "a7d0ad43",
   "metadata": {},
   "outputs": [],
   "source": [
    "type(sample_list[0])"
   ]
  },
  {
   "cell_type": "code",
   "execution_count": null,
   "id": "557f39d3",
   "metadata": {},
   "outputs": [],
   "source": [
    "type(sample_list[1])"
   ]
  },
  {
   "cell_type": "code",
   "execution_count": null,
   "id": "e9199c05",
   "metadata": {
    "scrolled": true
   },
   "outputs": [],
   "source": [
    "type(sample_list[3])"
   ]
  },
  {
   "cell_type": "code",
   "execution_count": null,
   "id": "d77e9b74",
   "metadata": {},
   "outputs": [],
   "source": [
    "type(sample_list[4])"
   ]
  },
  {
   "cell_type": "code",
   "execution_count": null,
   "id": "490119f3",
   "metadata": {},
   "outputs": [],
   "source": [
    "type(sample_list[1:3])"
   ]
  },
  {
   "cell_type": "code",
   "execution_count": null,
   "id": "405e12fa",
   "metadata": {
    "scrolled": true
   },
   "outputs": [],
   "source": [
    "sample_list[2]=5\n",
    "sample_list"
   ]
  },
  {
   "cell_type": "code",
   "execution_count": null,
   "id": "8f44bcc2",
   "metadata": {},
   "outputs": [],
   "source": [
    "sample_list.add(14)\n",
    "sample_list"
   ]
  },
  {
   "cell_type": "raw",
   "id": "a833012f",
   "metadata": {},
   "source": [
    "tuple ()\n",
    "1.Heterogeneous\n",
    "2.immutable\n",
    "3.index start with 0\n",
    "4.ordered"
   ]
  },
  {
   "cell_type": "code",
   "execution_count": null,
   "id": "4c2c04db",
   "metadata": {},
   "outputs": [],
   "source": [
    "sample_tuple=(12,4.3,'hii',1+3j,True,'hii')        #1+3i invalid complex\n",
    "sample_tuple"
   ]
  },
  {
   "cell_type": "code",
   "execution_count": null,
   "id": "020de93f",
   "metadata": {},
   "outputs": [],
   "source": [
    "type(sample_tuple)"
   ]
  },
  {
   "cell_type": "code",
   "execution_count": null,
   "id": "6a57c12b",
   "metadata": {},
   "outputs": [],
   "source": [
    "type(sample_tuple[2])"
   ]
  },
  {
   "cell_type": "code",
   "execution_count": null,
   "id": "54aa9845",
   "metadata": {},
   "outputs": [],
   "source": [
    "type(sample_tuple[4])"
   ]
  },
  {
   "cell_type": "code",
   "execution_count": null,
   "id": "58209f55",
   "metadata": {
    "scrolled": true
   },
   "outputs": [],
   "source": [
    "sample_tuple[2:]"
   ]
  },
  {
   "cell_type": "code",
   "execution_count": null,
   "id": "7bea6a4f",
   "metadata": {},
   "outputs": [],
   "source": [
    "sample_tuple[2:3]       #start with i=2 to i<3"
   ]
  },
  {
   "cell_type": "code",
   "execution_count": null,
   "id": "30a94910",
   "metadata": {},
   "outputs": [],
   "source": [
    "sample_tuple.add(4)     #can't add"
   ]
  },
  {
   "cell_type": "code",
   "execution_count": null,
   "id": "80f22ca1",
   "metadata": {},
   "outputs": [],
   "source": [
    "sample_tuple[0]=\"hii\"\n",
    "sample_tuple"
   ]
  },
  {
   "cell_type": "raw",
   "id": "b527088c",
   "metadata": {},
   "source": [
    "set {}\n",
    "1.no duplicate\n",
    "2.mutable(can add ,remove)\n",
    "3.unordered\n",
    "4. True and 1 both not print whose first will print\n",
    "5. type(sample_set[i]) not defined\n",
    "6. Heterogenous"
   ]
  },
  {
   "cell_type": "code",
   "execution_count": null,
   "id": "e6a53253",
   "metadata": {
    "scrolled": true
   },
   "outputs": [],
   "source": [
    "sample_set={1,2,1,0,5.2,-4,'hii',True,1+5j,False}\n",
    "sample_set"
   ]
  },
  {
   "cell_type": "code",
   "execution_count": null,
   "id": "0449d6e7",
   "metadata": {},
   "outputs": [],
   "source": [
    "type(sample_set)"
   ]
  },
  {
   "cell_type": "code",
   "execution_count": null,
   "id": "b6d863e0",
   "metadata": {},
   "outputs": [],
   "source": [
    "sample_set.add(8)\n",
    "sample_set"
   ]
  },
  {
   "cell_type": "code",
   "execution_count": null,
   "id": "f7feac23",
   "metadata": {},
   "outputs": [],
   "source": [
    "sample_set.remove(0)\n",
    "sample_set"
   ]
  },
  {
   "cell_type": "markdown",
   "id": "194039b0",
   "metadata": {},
   "source": [
    "### Dictionary"
   ]
  },
  {
   "cell_type": "raw",
   "id": "8f512ad9",
   "metadata": {},
   "source": [
    "key value pair dictionary\n",
    "can change the key value\n",
    "key unique(last will taken)\n",
    "can retrieve the value using key value"
   ]
  },
  {
   "cell_type": "code",
   "execution_count": null,
   "id": "3f2d49d4",
   "metadata": {},
   "outputs": [],
   "source": [
    "sample_dict={'a':\"alpha\",4:\"first\",3:\"beta\",'m':True,5.2:'hii'}\n",
    "type(sample_dict)"
   ]
  },
  {
   "cell_type": "code",
   "execution_count": null,
   "id": "1ff1f244",
   "metadata": {},
   "outputs": [],
   "source": [
    "sample_dict"
   ]
  },
  {
   "cell_type": "code",
   "execution_count": null,
   "id": "62d66da6",
   "metadata": {},
   "outputs": [],
   "source": [
    "sample_dict[4]"
   ]
  },
  {
   "cell_type": "code",
   "execution_count": null,
   "id": "256ceed7",
   "metadata": {
    "scrolled": true
   },
   "outputs": [],
   "source": [
    "sample_dict['m']"
   ]
  },
  {
   "cell_type": "code",
   "execution_count": null,
   "id": "b292eca6",
   "metadata": {},
   "outputs": [],
   "source": [
    "sample_set={1,2,3,1,5,4,'hii'}\n",
    "sample_set"
   ]
  },
  {
   "cell_type": "code",
   "execution_count": null,
   "id": "9a8327b8",
   "metadata": {},
   "outputs": [],
   "source": [
    "sample_set.remove(1)            #error because 1 deleted already many times like in[upper column but we did't print] print without 1 "
   ]
  },
  {
   "cell_type": "code",
   "execution_count": null,
   "id": "937ccc0c",
   "metadata": {},
   "outputs": [],
   "source": [
    "sample_set"
   ]
  },
  {
   "cell_type": "code",
   "execution_count": null,
   "id": "53b724e9",
   "metadata": {},
   "outputs": [],
   "source": [
    "sample_dict"
   ]
  }
 ],
 "metadata": {
  "kernelspec": {
   "display_name": "Python 3 (ipykernel)",
   "language": "python",
   "name": "python3"
  },
  "language_info": {
   "codemirror_mode": {
    "name": "ipython",
    "version": 3
   },
   "file_extension": ".py",
   "mimetype": "text/x-python",
   "name": "python",
   "nbconvert_exporter": "python",
   "pygments_lexer": "ipython3",
   "version": "3.9.12"
  }
 },
 "nbformat": 4,
 "nbformat_minor": 5
}
