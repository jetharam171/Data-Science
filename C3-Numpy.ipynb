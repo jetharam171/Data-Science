{
 "cells": [
  {
   "cell_type": "markdown",
   "id": "b18c829a",
   "metadata": {},
   "source": [
    "### Numpy"
   ]
  },
  {
   "cell_type": "code",
   "execution_count": 96,
   "id": "b90033b4",
   "metadata": {},
   "outputs": [],
   "source": [
    "import numpy as np         ### numerical+python"
   ]
  },
  {
   "cell_type": "code",
   "execution_count": 97,
   "id": "4801d683",
   "metadata": {},
   "outputs": [
    {
     "data": {
      "text/plain": [
       "array(['1', '2', '3', '4', '6', 'hii'], dtype='<U11')"
      ]
     },
     "execution_count": 97,
     "metadata": {},
     "output_type": "execute_result"
    }
   ],
   "source": [
    "arr=np.array([1,2,3,4,6,'hii'])   # create the array\n",
    "arr"
   ]
  },
  {
   "cell_type": "code",
   "execution_count": 98,
   "id": "bf350afe",
   "metadata": {},
   "outputs": [
    {
     "data": {
      "text/plain": [
       "array([[4, 5, 6],\n",
       "       [1, 2, 3],\n",
       "       [7, 8, 9]])"
      ]
     },
     "execution_count": 98,
     "metadata": {},
     "output_type": "execute_result"
    }
   ],
   "source": [
    "list_of_lists=np.array([[4,5,6],[1,2,3],[7,8,9]]) #multiple rows\n",
    "list_of_lists"
   ]
  },
  {
   "cell_type": "code",
   "execution_count": 99,
   "id": "741e8ac9",
   "metadata": {},
   "outputs": [
    {
     "data": {
      "text/plain": [
       "array([ 1,  2,  3,  4,  5,  6,  7,  8,  9, 10, 11, 12, 13, 14, 15, 16, 17,\n",
       "       18, 19])"
      ]
     },
     "execution_count": 99,
     "metadata": {},
     "output_type": "execute_result"
    }
   ],
   "source": [
    "np.arange(1,20)"
   ]
  },
  {
   "cell_type": "code",
   "execution_count": 100,
   "id": "ec6c505d",
   "metadata": {},
   "outputs": [
    {
     "data": {
      "text/plain": [
       "array([ 0,  1,  2,  3,  4,  5,  6,  7,  8,  9, 10, 11, 12, 13, 14, 15, 16,\n",
       "       17, 18, 19, 20, 21, 22, 23, 24, 25, 26, 27, 28, 29])"
      ]
     },
     "execution_count": 100,
     "metadata": {},
     "output_type": "execute_result"
    }
   ],
   "source": [
    "np.arange(30)"
   ]
  },
  {
   "cell_type": "code",
   "execution_count": 101,
   "id": "5f08f699",
   "metadata": {},
   "outputs": [
    {
     "data": {
      "text/plain": [
       "array([ 1,  5,  9, 13, 17])"
      ]
     },
     "execution_count": 101,
     "metadata": {},
     "output_type": "execute_result"
    }
   ],
   "source": [
    "np.arange(1,20,4)"
   ]
  },
  {
   "cell_type": "code",
   "execution_count": 102,
   "id": "df934f97",
   "metadata": {},
   "outputs": [
    {
     "data": {
      "text/plain": [
       "array([ 1,  6, 11, 16, 21, 26])"
      ]
     },
     "execution_count": 102,
     "metadata": {},
     "output_type": "execute_result"
    }
   ],
   "source": [
    "np.arange(1,30,5)"
   ]
  },
  {
   "cell_type": "code",
   "execution_count": 103,
   "id": "b3878ada",
   "metadata": {},
   "outputs": [
    {
     "data": {
      "text/plain": [
       "array([ 5, 10, 15, 20, 25])"
      ]
     },
     "execution_count": 103,
     "metadata": {},
     "output_type": "execute_result"
    }
   ],
   "source": [
    "np.arange(5,30,5)"
   ]
  },
  {
   "cell_type": "code",
   "execution_count": 104,
   "id": "cd6a4dec",
   "metadata": {},
   "outputs": [
    {
     "data": {
      "text/plain": [
       "array([0., 0., 0., 0., 0., 0., 0., 0., 0., 0.])"
      ]
     },
     "execution_count": 104,
     "metadata": {},
     "output_type": "execute_result"
    }
   ],
   "source": [
    "np.zeros(10)"
   ]
  },
  {
   "cell_type": "code",
   "execution_count": 105,
   "id": "b10e8101",
   "metadata": {},
   "outputs": [
    {
     "data": {
      "text/plain": [
       "array([0, 0, 0, 0, 0, 0, 0, 0, 0, 0])"
      ]
     },
     "execution_count": 105,
     "metadata": {},
     "output_type": "execute_result"
    }
   ],
   "source": [
    "np.zeros(10,int)"
   ]
  },
  {
   "cell_type": "code",
   "execution_count": 106,
   "id": "efac3c5b",
   "metadata": {},
   "outputs": [
    {
     "data": {
      "text/plain": [
       "array([1, 1, 1, 1, 1, 1, 1, 1, 1, 1])"
      ]
     },
     "execution_count": 106,
     "metadata": {},
     "output_type": "execute_result"
    }
   ],
   "source": [
    "np.ones(10,int)"
   ]
  },
  {
   "cell_type": "code",
   "execution_count": 107,
   "id": "c13efca1",
   "metadata": {},
   "outputs": [
    {
     "data": {
      "text/plain": [
       "array([1., 1., 1., 1., 1., 1., 1., 1., 1., 1.])"
      ]
     },
     "execution_count": 107,
     "metadata": {},
     "output_type": "execute_result"
    }
   ],
   "source": [
    "np.ones(10)"
   ]
  },
  {
   "cell_type": "code",
   "execution_count": 108,
   "id": "8e55c233",
   "metadata": {},
   "outputs": [
    {
     "data": {
      "text/plain": [
       "array([0.  , 0.25, 0.5 , 0.75, 1.  ])"
      ]
     },
     "execution_count": 108,
     "metadata": {},
     "output_type": "execute_result"
    }
   ],
   "source": [
    "np.linspace(0,1,5)"
   ]
  },
  {
   "cell_type": "code",
   "execution_count": 109,
   "id": "2de6db39",
   "metadata": {},
   "outputs": [
    {
     "data": {
      "text/plain": [
       "array([0. , 0.2, 0.4, 0.6, 0.8, 1. ])"
      ]
     },
     "execution_count": 109,
     "metadata": {},
     "output_type": "execute_result"
    }
   ],
   "source": [
    "np.linspace(0,1,6)         #linspace means form i to j there is k-2 equal places between them"
   ]
  },
  {
   "cell_type": "code",
   "execution_count": 110,
   "id": "b62ffe79",
   "metadata": {},
   "outputs": [
    {
     "data": {
      "text/plain": [
       "array([ 0.,  4.,  8., 12., 16., 20.])"
      ]
     },
     "execution_count": 110,
     "metadata": {},
     "output_type": "execute_result"
    }
   ],
   "source": [
    "np.linspace(0,20,6)         #where in arange form i to i+nk till it exceed j"
   ]
  },
  {
   "cell_type": "code",
   "execution_count": 111,
   "id": "c4b2728f",
   "metadata": {},
   "outputs": [
    {
     "data": {
      "text/plain": [
       "array([ 1.        ,  1.18367347,  1.36734694,  1.55102041,  1.73469388,\n",
       "        1.91836735,  2.10204082,  2.28571429,  2.46938776,  2.65306122,\n",
       "        2.83673469,  3.02040816,  3.20408163,  3.3877551 ,  3.57142857,\n",
       "        3.75510204,  3.93877551,  4.12244898,  4.30612245,  4.48979592,\n",
       "        4.67346939,  4.85714286,  5.04081633,  5.2244898 ,  5.40816327,\n",
       "        5.59183673,  5.7755102 ,  5.95918367,  6.14285714,  6.32653061,\n",
       "        6.51020408,  6.69387755,  6.87755102,  7.06122449,  7.24489796,\n",
       "        7.42857143,  7.6122449 ,  7.79591837,  7.97959184,  8.16326531,\n",
       "        8.34693878,  8.53061224,  8.71428571,  8.89795918,  9.08163265,\n",
       "        9.26530612,  9.44897959,  9.63265306,  9.81632653, 10.        ])"
      ]
     },
     "execution_count": 111,
     "metadata": {},
     "output_type": "execute_result"
    }
   ],
   "source": [
    "np.linspace(1,10)       #by default it will take k=50"
   ]
  },
  {
   "cell_type": "code",
   "execution_count": 112,
   "id": "992e36de",
   "metadata": {
    "scrolled": true
   },
   "outputs": [
    {
     "data": {
      "text/plain": [
       "array([ 1,  1,  1,  1,  1,  1,  2,  2,  2,  2,  2,  3,  3,  3,  3,  3,  3,\n",
       "        4,  4,  4,  4,  4,  5,  5,  5,  5,  5,  5,  6,  6,  6,  6,  6,  7,\n",
       "        7,  7,  7,  7,  7,  8,  8,  8,  8,  8,  9,  9,  9,  9,  9, 10])"
      ]
     },
     "execution_count": 112,
     "metadata": {},
     "output_type": "execute_result"
    }
   ],
   "source": [
    "np.linspace(1,10,dtype=int)"
   ]
  },
  {
   "cell_type": "code",
   "execution_count": 113,
   "id": "a1ed64ad",
   "metadata": {},
   "outputs": [
    {
     "data": {
      "text/plain": [
       "array([[1, 0, 0, 0, 0, 0, 0, 0, 0, 0, 0, 0],\n",
       "       [0, 1, 0, 0, 0, 0, 0, 0, 0, 0, 0, 0],\n",
       "       [0, 0, 1, 0, 0, 0, 0, 0, 0, 0, 0, 0],\n",
       "       [0, 0, 0, 1, 0, 0, 0, 0, 0, 0, 0, 0],\n",
       "       [0, 0, 0, 0, 1, 0, 0, 0, 0, 0, 0, 0],\n",
       "       [0, 0, 0, 0, 0, 1, 0, 0, 0, 0, 0, 0],\n",
       "       [0, 0, 0, 0, 0, 0, 1, 0, 0, 0, 0, 0],\n",
       "       [0, 0, 0, 0, 0, 0, 0, 1, 0, 0, 0, 0],\n",
       "       [0, 0, 0, 0, 0, 0, 0, 0, 1, 0, 0, 0],\n",
       "       [0, 0, 0, 0, 0, 0, 0, 0, 0, 1, 0, 0],\n",
       "       [0, 0, 0, 0, 0, 0, 0, 0, 0, 0, 1, 0],\n",
       "       [0, 0, 0, 0, 0, 0, 0, 0, 0, 0, 0, 1]])"
      ]
     },
     "execution_count": 113,
     "metadata": {},
     "output_type": "execute_result"
    }
   ],
   "source": [
    "np.eye(12,dtype=int)      "
   ]
  },
  {
   "cell_type": "code",
   "execution_count": 114,
   "id": "581b99cf",
   "metadata": {},
   "outputs": [
    {
     "data": {
      "text/plain": [
       "array([[0.38763658, 0.92455829, 0.23155218, 0.96267647, 0.54660027],\n",
       "       [0.71400942, 0.49702832, 0.42499334, 0.843389  , 0.2880987 ],\n",
       "       [0.3690864 , 0.20439143, 0.971345  , 0.50535028, 0.69754538]])"
      ]
     },
     "execution_count": 114,
     "metadata": {},
     "output_type": "execute_result"
    }
   ],
   "source": [
    "np.random.rand(3,5)"
   ]
  },
  {
   "cell_type": "code",
   "execution_count": 115,
   "id": "5891633a",
   "metadata": {},
   "outputs": [
    {
     "data": {
      "text/plain": [
       "array([[-1.22934296,  1.83539888,  1.48792156, -0.87519304, -0.24938675],\n",
       "       [-1.16130015, -1.91890159,  0.66866324, -1.167455  , -1.11663493],\n",
       "       [-0.96845682,  2.11095068,  1.76603063, -0.74917055,  0.32763466]])"
      ]
     },
     "execution_count": 115,
     "metadata": {},
     "output_type": "execute_result"
    }
   ],
   "source": [
    "np.random.randn(3,5)"
   ]
  },
  {
   "cell_type": "code",
   "execution_count": 116,
   "id": "c822d1e6",
   "metadata": {
    "scrolled": true
   },
   "outputs": [
    {
     "data": {
      "text/plain": [
       "5"
      ]
     },
     "execution_count": 116,
     "metadata": {},
     "output_type": "execute_result"
    }
   ],
   "source": [
    "np.random.randint(1,10)      #           int<10"
   ]
  },
  {
   "cell_type": "code",
   "execution_count": 117,
   "id": "03f761bd",
   "metadata": {
    "scrolled": true
   },
   "outputs": [
    {
     "data": {
      "text/plain": [
       "array([[[0.27432894, 0.63398066, 0.84429254],\n",
       "        [0.61353419, 0.52291766, 0.54067404],\n",
       "        [0.28434685, 0.60294114, 0.59928932],\n",
       "        [0.12098747, 0.15364724, 0.88900997]],\n",
       "\n",
       "       [[0.07803708, 0.29390846, 0.77506715],\n",
       "        [0.70950988, 0.5851444 , 0.25160489],\n",
       "        [0.85874465, 0.82051921, 0.17602715],\n",
       "        [0.04214406, 0.95349948, 0.7178311 ]]])"
      ]
     },
     "execution_count": 117,
     "metadata": {},
     "output_type": "execute_result"
    }
   ],
   "source": [
    "np.random.rand(2,4,3)"
   ]
  },
  {
   "cell_type": "code",
   "execution_count": 118,
   "id": "8d6bc251",
   "metadata": {
    "scrolled": true
   },
   "outputs": [
    {
     "data": {
      "text/plain": [
       "array([[[ 0.5010584 ,  1.03744265,  0.19433643],\n",
       "        [ 1.23273636, -0.71163579,  1.59539727],\n",
       "        [-0.02287254,  1.77044531,  1.13600886],\n",
       "        [ 2.11677237,  0.37800769,  1.12999915]],\n",
       "\n",
       "       [[-1.62539077,  1.85764127, -0.71377071],\n",
       "        [ 1.27733986, -2.14880176, -0.63416864],\n",
       "        [-2.63907646,  0.54393993,  1.0466654 ],\n",
       "        [-0.35848371,  0.85127144, -1.67546937]]])"
      ]
     },
     "execution_count": 118,
     "metadata": {},
     "output_type": "execute_result"
    }
   ],
   "source": [
    "np.random.randn(2,4,3)"
   ]
  },
  {
   "cell_type": "code",
   "execution_count": 119,
   "id": "4bdf7ae8",
   "metadata": {
    "scrolled": false
   },
   "outputs": [
    {
     "data": {
      "text/plain": [
       "array([ 1,  7, 11, 19,  1,  6,  7, 12, 13,  2, 16, 18,  1, 10, 10, 12,  5,\n",
       "        3,  3, 13,  9, 18, 19, 18, 18,  7, 18,  8, 17, 14, 14, 16, 12, 10,\n",
       "       13,  1, 19,  9,  6,  5,  3, 17, 13,  2,  7,  2, 11,  1, 16,  4, 11,\n",
       "        9,  6,  8, 17,  7,  2,  3, 17, 19, 10, 16, 18, 10,  6,  9,  1, 10,\n",
       "       11, 11,  5,  8,  5,  1,  2,  7,  3,  1, 11,  3,  8, 16, 13, 13, 10,\n",
       "       13, 11, 11, 12, 15, 10, 18,  6, 14,  1, 11,  8, 11, 10,  8])"
      ]
     },
     "execution_count": 119,
     "metadata": {},
     "output_type": "execute_result"
    }
   ],
   "source": [
    "np.random.randint(1,20,100)        #100 int from 1 to 19"
   ]
  },
  {
   "cell_type": "code",
   "execution_count": 120,
   "id": "01f11871",
   "metadata": {},
   "outputs": [
    {
     "data": {
      "text/plain": [
       "array([2, 2, 2, 2, 2])"
      ]
     },
     "execution_count": 120,
     "metadata": {},
     "output_type": "execute_result"
    }
   ],
   "source": [
    "np.random.randint(2,3,5)"
   ]
  },
  {
   "cell_type": "code",
   "execution_count": 121,
   "id": "582d4c23",
   "metadata": {},
   "outputs": [
    {
     "data": {
      "text/plain": [
       "array([ 0,  1,  2,  3,  4,  5,  6,  7,  8,  9, 10, 11, 12, 13, 14, 15, 16,\n",
       "       17, 18, 19, 20, 21, 22, 23, 24, 25, 26, 27, 28, 29, 30, 31, 32, 33,\n",
       "       34, 35, 36, 37, 38, 39, 40, 41, 42, 43, 44, 45, 46, 47, 48, 49])"
      ]
     },
     "execution_count": 121,
     "metadata": {},
     "output_type": "execute_result"
    }
   ],
   "source": [
    "sample_array1=np.arange(50)\n",
    "sample_array1"
   ]
  },
  {
   "cell_type": "code",
   "execution_count": 122,
   "id": "8126811d",
   "metadata": {},
   "outputs": [
    {
     "data": {
      "text/plain": [
       "array([ 0,  1,  2,  3,  4,  5,  6,  7,  8,  9, 10, 11, 12, 13, 14, 15, 16,\n",
       "       17, 18, 19, 20, 21, 22, 23, 24, 25, 26, 27, 28, 29])"
      ]
     },
     "execution_count": 122,
     "metadata": {},
     "output_type": "execute_result"
    }
   ],
   "source": [
    "sample_array2=np.arange(30)\n",
    "sample_array2"
   ]
  },
  {
   "cell_type": "code",
   "execution_count": 123,
   "id": "b1b6520f",
   "metadata": {},
   "outputs": [
    {
     "data": {
      "text/plain": [
       "array([0.22505084, 0.68384569, 0.75107418, 0.99340255, 0.25690964,\n",
       "       0.05581414, 0.62347377, 0.12641094, 0.95934527, 0.55609375])"
      ]
     },
     "execution_count": 123,
     "metadata": {},
     "output_type": "execute_result"
    }
   ],
   "source": [
    "sample_array3=np.random.rand(10)\n",
    "sample_array3"
   ]
  },
  {
   "cell_type": "code",
   "execution_count": 124,
   "id": "a345cbb8",
   "metadata": {},
   "outputs": [
    {
     "data": {
      "text/plain": [
       "array([ 1,  3,  5,  7,  9, 11, 13, 15, 17, 19, 21, 23, 25, 27, 29])"
      ]
     },
     "execution_count": 124,
     "metadata": {},
     "output_type": "execute_result"
    }
   ],
   "source": [
    "sample_array4=np.arange(1,30,2)  # i to j-1 with k diffrence\n",
    "sample_array4"
   ]
  },
  {
   "cell_type": "code",
   "execution_count": 125,
   "id": "4622bbb5",
   "metadata": {},
   "outputs": [
    {
     "data": {
      "text/plain": [
       "array([[ 0,  1,  2,  3,  4,  5,  6,  7,  8,  9],\n",
       "       [10, 11, 12, 13, 14, 15, 16, 17, 18, 19],\n",
       "       [20, 21, 22, 23, 24, 25, 26, 27, 28, 29],\n",
       "       [30, 31, 32, 33, 34, 35, 36, 37, 38, 39],\n",
       "       [40, 41, 42, 43, 44, 45, 46, 47, 48, 49]])"
      ]
     },
     "execution_count": 125,
     "metadata": {},
     "output_type": "execute_result"
    }
   ],
   "source": [
    "sample_array1.reshape(5,10)        # i*j should be 50"
   ]
  },
  {
   "cell_type": "code",
   "execution_count": 126,
   "id": "b76695cb",
   "metadata": {
    "scrolled": true
   },
   "outputs": [
    {
     "data": {
      "text/plain": [
       "array([[ 0,  1,  2,  3,  4,  5],\n",
       "       [ 6,  7,  8,  9, 10, 11],\n",
       "       [12, 13, 14, 15, 16, 17],\n",
       "       [18, 19, 20, 21, 22, 23],\n",
       "       [24, 25, 26, 27, 28, 29]])"
      ]
     },
     "execution_count": 126,
     "metadata": {},
     "output_type": "execute_result"
    }
   ],
   "source": [
    "sample_array2.reshape(5,6)"
   ]
  },
  {
   "cell_type": "code",
   "execution_count": 127,
   "id": "10dbd30e",
   "metadata": {
    "scrolled": true
   },
   "outputs": [
    {
     "data": {
      "text/plain": [
       "array([90,  3, 24, 94, 77, 16, 90, 61, 39, 24, 43, 10, 72, 91, 42, 19, 86,\n",
       "       10, 28, 72,  4, 76, 56, 12,  0, 88,  3, 21, 18, 51, 37, 17,  0,  6,\n",
       "       51,  5, 25, 59, 20, 68, 64, 51, 21,  6, 22,  1, 34,  2, 40, 90])"
      ]
     },
     "execution_count": 127,
     "metadata": {},
     "output_type": "execute_result"
    }
   ],
   "source": [
    "rand_array=np.random.randint(0,100,50)\n",
    "rand_array"
   ]
  },
  {
   "cell_type": "code",
   "execution_count": 128,
   "id": "0f2a9a80",
   "metadata": {},
   "outputs": [
    {
     "data": {
      "text/plain": [
       "array([[[6.56934357e-01, 3.59114703e-01, 7.93202649e-01, 7.96057059e-01,\n",
       "         6.32784679e-01],\n",
       "        [4.80513198e-01, 8.19218893e-02, 2.49920453e-01, 6.78215594e-01,\n",
       "         4.18886838e-01],\n",
       "        [7.16699350e-01, 9.80619908e-02, 5.65425636e-01, 5.20040344e-01,\n",
       "         6.30416600e-01],\n",
       "        [2.23321870e-01, 7.99522673e-01, 6.09521227e-01, 8.85547135e-01,\n",
       "         6.58365410e-01],\n",
       "        [3.89808882e-02, 7.46777600e-01, 1.23669435e-01, 4.26097998e-01,\n",
       "         6.89543064e-01],\n",
       "        [5.44534852e-01, 2.88070292e-01, 9.03410006e-01, 4.28312449e-01,\n",
       "         8.47095389e-01],\n",
       "        [5.39921124e-01, 7.76554122e-01, 3.82255294e-01, 6.80276804e-01,\n",
       "         6.19184145e-01],\n",
       "        [1.23624520e-02, 7.73466505e-01, 9.48102601e-01, 8.81102471e-01,\n",
       "         1.19090281e-01],\n",
       "        [4.45824983e-01, 9.76638835e-01, 4.11507030e-01, 1.04773781e-01,\n",
       "         9.35848880e-01],\n",
       "        [1.18188889e-01, 3.14066895e-01, 5.58885549e-01, 6.91026403e-01,\n",
       "         5.92875675e-01]],\n",
       "\n",
       "       [[8.40904236e-02, 4.52805728e-01, 6.27407038e-01, 1.86939153e-01,\n",
       "         2.58229120e-02],\n",
       "        [7.52292439e-01, 6.22463826e-01, 2.32890781e-01, 8.82814123e-01,\n",
       "         1.19627200e-01],\n",
       "        [5.41052712e-04, 6.77475043e-01, 3.13018926e-02, 8.62207510e-01,\n",
       "         3.83529457e-01],\n",
       "        [2.92694509e-01, 3.39816118e-01, 3.26563511e-01, 4.45841785e-01,\n",
       "         1.77651977e-04],\n",
       "        [5.75655204e-01, 6.61742844e-01, 3.88857307e-01, 8.75017128e-01,\n",
       "         1.26860175e-01],\n",
       "        [6.79007599e-01, 8.66738860e-02, 6.39342175e-01, 3.94986059e-03,\n",
       "         1.89990482e-01],\n",
       "        [9.77133676e-01, 7.53839705e-01, 2.51743810e-01, 6.49007429e-01,\n",
       "         1.03187626e-01],\n",
       "        [6.61801185e-02, 9.10746120e-01, 2.61541475e-01, 2.76887047e-01,\n",
       "         9.19193283e-01],\n",
       "        [2.12093782e-01, 1.58231585e-01, 6.39804026e-01, 8.40210939e-01,\n",
       "         7.10396708e-01],\n",
       "        [6.86575602e-01, 3.41424590e-01, 4.30187482e-01, 2.03354168e-01,\n",
       "         3.70416506e-01]]])"
      ]
     },
     "execution_count": 128,
     "metadata": {},
     "output_type": "execute_result"
    }
   ],
   "source": [
    "rand_array2=np.random.rand(2,10,5)\n",
    "rand_array2"
   ]
  },
  {
   "cell_type": "code",
   "execution_count": 129,
   "id": "fbe764d6",
   "metadata": {},
   "outputs": [
    {
     "data": {
      "text/plain": [
       "0"
      ]
     },
     "execution_count": 129,
     "metadata": {},
     "output_type": "execute_result"
    }
   ],
   "source": [
    "rand_array.min() "
   ]
  },
  {
   "cell_type": "code",
   "execution_count": 130,
   "id": "4febb01b",
   "metadata": {
    "scrolled": true
   },
   "outputs": [
    {
     "data": {
      "text/plain": [
       "94"
      ]
     },
     "execution_count": 130,
     "metadata": {},
     "output_type": "execute_result"
    }
   ],
   "source": [
    "rand_array.max()"
   ]
  },
  {
   "cell_type": "code",
   "execution_count": 131,
   "id": "c8ebe7a4",
   "metadata": {},
   "outputs": [
    {
     "data": {
      "text/plain": [
       "24"
      ]
     },
     "execution_count": 131,
     "metadata": {},
     "output_type": "execute_result"
    }
   ],
   "source": [
    "rand_array.argmin()          #index of the min value"
   ]
  },
  {
   "cell_type": "code",
   "execution_count": 132,
   "id": "3f30bce6",
   "metadata": {},
   "outputs": [
    {
     "data": {
      "text/plain": [
       "3"
      ]
     },
     "execution_count": 132,
     "metadata": {},
     "output_type": "execute_result"
    }
   ],
   "source": [
    "rand_array.argmax()             #index of the max value"
   ]
  },
  {
   "cell_type": "code",
   "execution_count": 133,
   "id": "fc05e780",
   "metadata": {},
   "outputs": [
    {
     "data": {
      "text/plain": [
       "array([[0.58302479, 0.07853711, 0.39973559],\n",
       "       [0.29694235, 0.89087504, 0.86996496]])"
      ]
     },
     "execution_count": 133,
     "metadata": {},
     "output_type": "execute_result"
    }
   ],
   "source": [
    "a=np.random.rand(2,3)\n",
    "a"
   ]
  },
  {
   "cell_type": "code",
   "execution_count": 134,
   "id": "aca583df",
   "metadata": {},
   "outputs": [
    {
     "data": {
      "text/plain": [
       "array([[0.58302479, 0.29694235],\n",
       "       [0.07853711, 0.89087504],\n",
       "       [0.39973559, 0.86996496]])"
      ]
     },
     "execution_count": 134,
     "metadata": {},
     "output_type": "execute_result"
    }
   ],
   "source": [
    "a.T            #transpose of a"
   ]
  },
  {
   "cell_type": "code",
   "execution_count": 135,
   "id": "5b79d7bd",
   "metadata": {},
   "outputs": [
    {
     "data": {
      "text/plain": [
       "array([10, 11, 12, 13, 14, 15, 16, 17, 18, 19, 20])"
      ]
     },
     "execution_count": 135,
     "metadata": {},
     "output_type": "execute_result"
    }
   ],
   "source": [
    "sample_array=np.arange(10,21)\n",
    "sample_array"
   ]
  },
  {
   "cell_type": "code",
   "execution_count": 136,
   "id": "29aed606",
   "metadata": {},
   "outputs": [
    {
     "data": {
      "text/plain": [
       "15"
      ]
     },
     "execution_count": 136,
     "metadata": {},
     "output_type": "execute_result"
    }
   ],
   "source": [
    "sample_array[5]"
   ]
  },
  {
   "cell_type": "code",
   "execution_count": 137,
   "id": "26fe83fc",
   "metadata": {},
   "outputs": [
    {
     "data": {
      "text/plain": [
       "array([12, 13, 14])"
      ]
     },
     "execution_count": 137,
     "metadata": {},
     "output_type": "execute_result"
    }
   ],
   "source": [
    "sample_array[2:5]"
   ]
  },
  {
   "cell_type": "code",
   "execution_count": 138,
   "id": "afae83cf",
   "metadata": {
    "scrolled": true
   },
   "outputs": [
    {
     "data": {
      "text/plain": [
       "array([[1, 2, 3],\n",
       "       [5, 6, 7],\n",
       "       [4, 5, 5]])"
      ]
     },
     "execution_count": 138,
     "metadata": {},
     "output_type": "execute_result"
    }
   ],
   "source": [
    "sample_matrix=np.array(([1,2,3],[5,6,7],[4,5,5]))\n",
    "sample_matrix"
   ]
  },
  {
   "cell_type": "code",
   "execution_count": 139,
   "id": "45f89309",
   "metadata": {},
   "outputs": [
    {
     "data": {
      "text/plain": [
       "array([[1, 5, 4],\n",
       "       [2, 6, 5],\n",
       "       [3, 7, 5]])"
      ]
     },
     "execution_count": 139,
     "metadata": {},
     "output_type": "execute_result"
    }
   ],
   "source": [
    "sample_matrix.T"
   ]
  },
  {
   "cell_type": "code",
   "execution_count": 140,
   "id": "f73f2231",
   "metadata": {},
   "outputs": [
    {
     "data": {
      "text/plain": [
       "6"
      ]
     },
     "execution_count": 140,
     "metadata": {},
     "output_type": "execute_result"
    }
   ],
   "source": [
    "sample_matrix[1][1]          #i,j element"
   ]
  },
  {
   "cell_type": "code",
   "execution_count": 141,
   "id": "0a7494cd",
   "metadata": {},
   "outputs": [
    {
     "data": {
      "text/plain": [
       "array([5, 6, 7])"
      ]
     },
     "execution_count": 141,
     "metadata": {},
     "output_type": "execute_result"
    }
   ],
   "source": [
    "sample_matrix[1]         #first row"
   ]
  },
  {
   "cell_type": "code",
   "execution_count": 142,
   "id": "693eef84",
   "metadata": {},
   "outputs": [
    {
     "data": {
      "text/plain": [
       "array([[1, 2, 3],\n",
       "       [5, 6, 7]])"
      ]
     },
     "execution_count": 142,
     "metadata": {},
     "output_type": "execute_result"
    }
   ],
   "source": [
    "sample_matrix[0:2]          # i to j-1 roe"
   ]
  },
  {
   "cell_type": "code",
   "execution_count": 143,
   "id": "c012f2b1",
   "metadata": {},
   "outputs": [
    {
     "data": {
      "text/plain": [
       "array([], shape=(0, 3), dtype=int32)"
      ]
     },
     "execution_count": 143,
     "metadata": {},
     "output_type": "execute_result"
    }
   ],
   "source": [
    "sample_matrix[1:0]        "
   ]
  },
  {
   "cell_type": "code",
   "execution_count": 144,
   "id": "97885b7e",
   "metadata": {},
   "outputs": [
    {
     "data": {
      "text/plain": [
       "array([[5, 6, 7],\n",
       "       [4, 5, 5]])"
      ]
     },
     "execution_count": 144,
     "metadata": {},
     "output_type": "execute_result"
    }
   ],
   "source": [
    "sample_matrix[1:]        # all row from 1"
   ]
  },
  {
   "cell_type": "code",
   "execution_count": 145,
   "id": "817593fc",
   "metadata": {},
   "outputs": [
    {
     "data": {
      "text/plain": [
       "array([[1, 2, 3],\n",
       "       [5, 6, 7],\n",
       "       [4, 5, 5]])"
      ]
     },
     "execution_count": 145,
     "metadata": {},
     "output_type": "execute_result"
    }
   ],
   "source": [
    "sample_matrix[:4]   "
   ]
  },
  {
   "cell_type": "code",
   "execution_count": 146,
   "id": "fd149f19",
   "metadata": {},
   "outputs": [
    {
     "data": {
      "text/plain": [
       "array([[1, 2, 3],\n",
       "       [5, 6, 7]])"
      ]
     },
     "execution_count": 146,
     "metadata": {},
     "output_type": "execute_result"
    }
   ],
   "source": [
    "sample_matrix[0:2]"
   ]
  },
  {
   "cell_type": "code",
   "execution_count": 147,
   "id": "4cc69a5f",
   "metadata": {},
   "outputs": [
    {
     "data": {
      "text/plain": [
       "array([[1, 2, 3],\n",
       "       [5, 6, 7],\n",
       "       [4, 5, 5]])"
      ]
     },
     "execution_count": 147,
     "metadata": {},
     "output_type": "execute_result"
    }
   ],
   "source": [
    "sample_matrix[0:]"
   ]
  },
  {
   "cell_type": "code",
   "execution_count": 148,
   "id": "206a9f7e",
   "metadata": {},
   "outputs": [
    {
     "data": {
      "text/plain": [
       "array([5, 6])"
      ]
     },
     "execution_count": 148,
     "metadata": {},
     "output_type": "execute_result"
    }
   ],
   "source": [
    "sample_matrix[1,0:2]        # ith row element form m to n-1"
   ]
  },
  {
   "cell_type": "code",
   "execution_count": 149,
   "id": "18973eb5",
   "metadata": {},
   "outputs": [
    {
     "data": {
      "text/plain": [
       "array([ 1,  2,  3,  4,  5,  6,  7,  8,  9, 10, 11, 12, 13, 14, 15, 16, 17,\n",
       "       18, 19])"
      ]
     },
     "execution_count": 149,
     "metadata": {},
     "output_type": "execute_result"
    }
   ],
   "source": [
    "sample_array=np.arange(1,20)\n",
    "sample_array"
   ]
  },
  {
   "cell_type": "code",
   "execution_count": 150,
   "id": "0fe549ba",
   "metadata": {
    "scrolled": true
   },
   "outputs": [
    {
     "data": {
      "text/plain": [
       "array([ 2,  4,  6,  8, 10, 12, 14, 16, 18, 20, 22, 24, 26, 28, 30, 32, 34,\n",
       "       36, 38])"
      ]
     },
     "execution_count": 150,
     "metadata": {},
     "output_type": "execute_result"
    }
   ],
   "source": [
    "sample_array+sample_array   #correponding index add"
   ]
  },
  {
   "cell_type": "code",
   "execution_count": 151,
   "id": "d6a1847d",
   "metadata": {},
   "outputs": [
    {
     "data": {
      "text/plain": [
       "array([[0.57963879, 0.38527972, 0.68896192, 0.87613209, 0.07493461],\n",
       "       [0.87658902, 0.0342117 , 0.86534298, 0.5176284 , 0.24407679]])"
      ]
     },
     "execution_count": 151,
     "metadata": {},
     "output_type": "execute_result"
    }
   ],
   "source": [
    "sample_array5=np.random.rand(2,5)\n",
    "sample_array5"
   ]
  },
  {
   "cell_type": "code",
   "execution_count": 152,
   "id": "a631cb7e",
   "metadata": {
    "scrolled": true
   },
   "outputs": [
    {
     "data": {
      "text/plain": [
       "array([[1.15927758, 0.77055943, 1.37792384, 1.75226418, 0.14986922],\n",
       "       [1.75317803, 0.0684234 , 1.73068596, 1.03525679, 0.48815358]])"
      ]
     },
     "execution_count": 152,
     "metadata": {},
     "output_type": "execute_result"
    }
   ],
   "source": [
    "sample_array5+sample_array5"
   ]
  },
  {
   "cell_type": "code",
   "execution_count": 153,
   "id": "26455bbf",
   "metadata": {
    "scrolled": true
   },
   "outputs": [
    {
     "data": {
      "text/plain": [
       "array([[-0.85358796,  0.93276325,  0.50107051, -0.89466468,  1.86655667],\n",
       "       [ 0.57715383,  0.59010281,  0.65903211, -0.97765636,  0.37667548]])"
      ]
     },
     "execution_count": 153,
     "metadata": {},
     "output_type": "execute_result"
    }
   ],
   "source": [
    "sample_array6=np.random.randn(2,5)\n",
    "sample_array6"
   ]
  },
  {
   "cell_type": "code",
   "execution_count": 154,
   "id": "93142cbc",
   "metadata": {},
   "outputs": [
    {
     "data": {
      "text/plain": [
       "array([0.        , 0.69314718, 1.09861229, 1.38629436, 1.60943791,\n",
       "       1.79175947, 1.94591015, 2.07944154, 2.19722458, 2.30258509,\n",
       "       2.39789527, 2.48490665, 2.56494936, 2.63905733, 2.7080502 ,\n",
       "       2.77258872, 2.83321334, 2.89037176, 2.94443898])"
      ]
     },
     "execution_count": 154,
     "metadata": {},
     "output_type": "execute_result"
    }
   ],
   "source": [
    "np.log(sample_array)"
   ]
  },
  {
   "cell_type": "code",
   "execution_count": 155,
   "id": "7ab8d172",
   "metadata": {},
   "outputs": [
    {
     "data": {
      "text/plain": [
       "1"
      ]
     },
     "execution_count": 155,
     "metadata": {},
     "output_type": "execute_result"
    }
   ],
   "source": [
    "np.min(sample_array)"
   ]
  },
  {
   "cell_type": "code",
   "execution_count": 156,
   "id": "90c2771c",
   "metadata": {
    "scrolled": true
   },
   "outputs": [
    {
     "data": {
      "text/plain": [
       "19"
      ]
     },
     "execution_count": 156,
     "metadata": {},
     "output_type": "execute_result"
    }
   ],
   "source": [
    "np.max(sample_array)"
   ]
  },
  {
   "cell_type": "code",
   "execution_count": 157,
   "id": "32729b0f",
   "metadata": {},
   "outputs": [
    {
     "data": {
      "text/plain": [
       "18"
      ]
     },
     "execution_count": 157,
     "metadata": {},
     "output_type": "execute_result"
    }
   ],
   "source": [
    "np.argmax(sample_array)"
   ]
  },
  {
   "cell_type": "code",
   "execution_count": 158,
   "id": "37947c2f",
   "metadata": {},
   "outputs": [
    {
     "data": {
      "text/plain": [
       "18"
      ]
     },
     "execution_count": 158,
     "metadata": {},
     "output_type": "execute_result"
    }
   ],
   "source": [
    "sample_array.argmax()"
   ]
  },
  {
   "cell_type": "code",
   "execution_count": 159,
   "id": "7e81c972",
   "metadata": {},
   "outputs": [
    {
     "data": {
      "text/plain": [
       "array([1.        , 1.41421356, 1.73205081, 2.        , 2.23606798,\n",
       "       2.44948974, 2.64575131, 2.82842712, 3.        , 3.16227766,\n",
       "       3.31662479, 3.46410162, 3.60555128, 3.74165739, 3.87298335,\n",
       "       4.        , 4.12310563, 4.24264069, 4.35889894])"
      ]
     },
     "execution_count": 159,
     "metadata": {},
     "output_type": "execute_result"
    }
   ],
   "source": [
    "np.sqrt(sample_array)"
   ]
  },
  {
   "cell_type": "code",
   "execution_count": 160,
   "id": "f979b7fd",
   "metadata": {},
   "outputs": [
    {
     "data": {
      "text/plain": [
       "0"
      ]
     },
     "execution_count": 160,
     "metadata": {},
     "output_type": "execute_result"
    }
   ],
   "source": [
    "np.argmin(sample_array)"
   ]
  },
  {
   "cell_type": "code",
   "execution_count": 161,
   "id": "ce9dacd4",
   "metadata": {},
   "outputs": [
    {
     "data": {
      "text/plain": [
       "18"
      ]
     },
     "execution_count": 161,
     "metadata": {},
     "output_type": "execute_result"
    }
   ],
   "source": [
    "np.argmax(sample_array)   #index of max"
   ]
  },
  {
   "cell_type": "code",
   "execution_count": 162,
   "id": "9f99e67c",
   "metadata": {},
   "outputs": [
    {
     "data": {
      "text/plain": [
       "array([2.71828183e+00, 7.38905610e+00, 2.00855369e+01, 5.45981500e+01,\n",
       "       1.48413159e+02, 4.03428793e+02, 1.09663316e+03, 2.98095799e+03,\n",
       "       8.10308393e+03, 2.20264658e+04, 5.98741417e+04, 1.62754791e+05,\n",
       "       4.42413392e+05, 1.20260428e+06, 3.26901737e+06, 8.88611052e+06,\n",
       "       2.41549528e+07, 6.56599691e+07, 1.78482301e+08])"
      ]
     },
     "execution_count": 162,
     "metadata": {},
     "output_type": "execute_result"
    }
   ],
   "source": [
    "a=np.exp(sample_array)\n",
    "a"
   ]
  },
  {
   "cell_type": "code",
   "execution_count": 163,
   "id": "ff0fba2b",
   "metadata": {},
   "outputs": [
    {
     "data": {
      "text/plain": [
       "10.0"
      ]
     },
     "execution_count": 163,
     "metadata": {},
     "output_type": "execute_result"
    }
   ],
   "source": [
    "np.average(sample_array)"
   ]
  },
  {
   "cell_type": "code",
   "execution_count": 164,
   "id": "fd240f91",
   "metadata": {},
   "outputs": [
    {
     "data": {
      "text/plain": [
       "0"
      ]
     },
     "execution_count": 164,
     "metadata": {},
     "output_type": "execute_result"
    }
   ],
   "source": [
    "np.argmin(sample_array)"
   ]
  },
  {
   "cell_type": "code",
   "execution_count": 165,
   "id": "0721ce2b",
   "metadata": {},
   "outputs": [
    {
     "data": {
      "text/plain": [
       "30.0"
      ]
     },
     "execution_count": 165,
     "metadata": {},
     "output_type": "execute_result"
    }
   ],
   "source": [
    "np.var(sample_array)"
   ]
  },
  {
   "cell_type": "code",
   "execution_count": 166,
   "id": "2c5fe0f7",
   "metadata": {},
   "outputs": [
    {
     "data": {
      "text/plain": [
       "10.0"
      ]
     },
     "execution_count": 166,
     "metadata": {},
     "output_type": "execute_result"
    }
   ],
   "source": [
    "np.mean(sample_array)"
   ]
  },
  {
   "cell_type": "code",
   "execution_count": 167,
   "id": "775c205e",
   "metadata": {},
   "outputs": [
    {
     "data": {
      "text/plain": [
       "5.477225575051661"
      ]
     },
     "execution_count": 167,
     "metadata": {},
     "output_type": "execute_result"
    }
   ],
   "source": [
    "np.std(sample_array)"
   ]
  },
  {
   "cell_type": "code",
   "execution_count": 168,
   "id": "55065bc2",
   "metadata": {},
   "outputs": [
    {
     "data": {
      "text/plain": [
       "array([[ 0.01263982,  0.38598225,  0.31113052,  0.58930178,  0.20412458,\n",
       "         0.79250307],\n",
       "       [ 0.94068596, -2.23614452, -1.25902994,  0.74696633,  1.09945229,\n",
       "        -1.51211365],\n",
       "       [-0.18905267,  0.63669722,  1.88876213,  0.12279062, -0.94065401,\n",
       "         0.61094037]])"
      ]
     },
     "execution_count": 168,
     "metadata": {},
     "output_type": "execute_result"
    }
   ],
   "source": [
    "array=np.random.randn(3,6)\n",
    "array"
   ]
  },
  {
   "cell_type": "code",
   "execution_count": 169,
   "id": "e9c9f341",
   "metadata": {},
   "outputs": [
    {
     "data": {
      "text/plain": [
       "array([[ 0.013,  0.386,  0.311,  0.589,  0.204,  0.793],\n",
       "       [ 0.941, -2.236, -1.259,  0.747,  1.099, -1.512],\n",
       "       [-0.189,  0.637,  1.889,  0.123, -0.941,  0.611]])"
      ]
     },
     "execution_count": 169,
     "metadata": {},
     "output_type": "execute_result"
    }
   ],
   "source": [
    "np.round(array,decimals=3)"
   ]
  },
  {
   "cell_type": "code",
   "execution_count": 170,
   "id": "47737aa5",
   "metadata": {},
   "outputs": [
    {
     "data": {
      "text/plain": [
       "array([2.71800000e+00, 7.38900000e+00, 2.00860000e+01, 5.45980000e+01,\n",
       "       1.48413000e+02, 4.03429000e+02, 1.09663300e+03, 2.98095800e+03,\n",
       "       8.10308400e+03, 2.20264660e+04, 5.98741420e+04, 1.62754791e+05,\n",
       "       4.42413392e+05, 1.20260428e+06, 3.26901737e+06, 8.88611052e+06,\n",
       "       2.41549528e+07, 6.56599691e+07, 1.78482301e+08])"
      ]
     },
     "execution_count": 170,
     "metadata": {},
     "output_type": "execute_result"
    }
   ],
   "source": [
    "np.round(a,decimals=3)"
   ]
  },
  {
   "cell_type": "code",
   "execution_count": 171,
   "id": "c8d82692",
   "metadata": {},
   "outputs": [
    {
     "data": {
      "text/plain": [
       "array(['golf', 'cricket', 'football', 'volly', 'golf'], dtype='<U8')"
      ]
     },
     "execution_count": 171,
     "metadata": {},
     "output_type": "execute_result"
    }
   ],
   "source": [
    "sports=np.array(['golf','cricket','football','volly','golf'])\n",
    "sports"
   ]
  },
  {
   "cell_type": "code",
   "execution_count": 172,
   "id": "b4435ae7",
   "metadata": {
    "scrolled": true
   },
   "outputs": [
    {
     "data": {
      "text/plain": [
       "array(['cricket', 'football', 'golf', 'volly'], dtype='<U8')"
      ]
     },
     "execution_count": 172,
     "metadata": {},
     "output_type": "execute_result"
    }
   ],
   "source": [
    "np.unique(sports)"
   ]
  },
  {
   "cell_type": "code",
   "execution_count": 175,
   "id": "184ec247",
   "metadata": {},
   "outputs": [
    {
     "data": {
      "text/plain": [
       "array([2, 2, 2, 2, 2])"
      ]
     },
     "execution_count": 175,
     "metadata": {},
     "output_type": "execute_result"
    }
   ],
   "source": [
    "np.random.randint(2,3,5)"
   ]
  },
  {
   "cell_type": "code",
   "execution_count": null,
   "id": "8cead1bf",
   "metadata": {},
   "outputs": [],
   "source": []
  }
 ],
 "metadata": {
  "kernelspec": {
   "display_name": "Python 3 (ipykernel)",
   "language": "python",
   "name": "python3"
  },
  "language_info": {
   "codemirror_mode": {
    "name": "ipython",
    "version": 3
   },
   "file_extension": ".py",
   "mimetype": "text/x-python",
   "name": "python",
   "nbconvert_exporter": "python",
   "pygments_lexer": "ipython3",
   "version": "3.9.12"
  }
 },
 "nbformat": 4,
 "nbformat_minor": 5
}
